{
 "cells": [
  {
   "cell_type": "code",
   "execution_count": 33,
   "metadata": {},
   "outputs": [
    {
     "name": "stdout",
     "output_type": "stream",
     "text": [
      "Enter Value: -4\n"
     ]
    },
    {
     "data": {
      "text/html": [
       "<table border=\"0\" cellpadding=\"0\" cellspacing=\"0\" class=\"month\">\n",
       "<tr><th colspan=\"7\" class=\"month\">March 2020</th></tr>\n",
       "<tr><th class=\"sun\">Sun</th><th class=\"mon\">Mon</th><th class=\"tue\">Tue</th><th class=\"wed\">Wed</th><th class=\"thu\">Thu</th><th class=\"fri\">Fri</th><th class=\"sat\">Sat</th></tr>\n",
       "<tr><td class=\"sun\">1</td><td class=\"mon\">2</td><td class=\"tue\">3</td><td class=\"wed\">4</td><td class=\"thu\">5</td><td class=\"fri\">6</td><td class=\"sat\">7</td></tr>\n",
       "<tr><td class=\"sun\">8</td><td class=\"mon\">9</td><td class=\"tue\">10</td><td class=\"wed\">11</td><td class=\"thu\">12</td><td class=\"fri\">13</td><td class=\"sat\">14</td></tr>\n",
       "<tr><td class=\"sun\">15</td><td class=\"mon\">16</td><td class=\"tue\">17</td><td class=\"wed\">18</td><td class=\"thu\">19</td><td class=\"fri\">20</td><td class=\"sat\">21</td></tr>\n",
       "<tr><td class=\"sun\">22</td><td class=\"mon\" bgcolor=\"#66ff66\"><b><u>23</u></b></td><td class=\"tue\">24</td><td class=\"wed\">25</td><td class=\"thu\">26</td><td class=\"fri\">27</td><td class=\"sat\">28</td></tr>\n",
       "<tr><td class=\"sun\">29</td><td class=\"mon\">30</td><td class=\"tue\">31</td><td class=\"noday\">&nbsp;</td><td class=\"noday\">&nbsp;</td><td class=\"noday\">&nbsp;</td><td class=\"noday\">&nbsp;</td></tr>\n",
       "</table>\n"
      ],
      "text/plain": [
       "<IPython.core.display.HTML object>"
      ]
     },
     "metadata": {},
     "output_type": "display_data"
    }
   ],
   "source": [
    "# Solution Submitted By: DEVANG SHARMA\n",
    "# Email: devangsharma419@gmail.com\n",
    "# Alternate Email: devangsharma25398@gmail.com\n",
    "# T: +91-9953027469\n",
    "\n",
    "\n",
    "# Code Starts Here\n",
    "\n",
    "\n",
    "import calendar\n",
    "import datetime\n",
    "from IPython.display import display,HTML\n",
    "\n",
    "def function(num):\n",
    "    \n",
    "    # Entered Value Must Lie Between -12 and 12\n",
    "    if num>12 or num<-12:\n",
    "        print(\"Enter a Number between -12 to +12\")\n",
    "    \n",
    "    else:\n",
    "        now = datetime.datetime.now()\n",
    "        yy=now.year\n",
    "        mm=now.month+num\n",
    "        \n",
    "        if mm>12:\n",
    "            yy=yy+1\n",
    "            mm=mm%12\n",
    "        \n",
    "        if mm<1:\n",
    "            yy=yy-1\n",
    "            mm=mm+12\n",
    "        \n",
    "        # create HTML Calendar month\n",
    "        cal = calendar.HTMLCalendar(calendar.SUNDAY)\n",
    "        s= cal.formatmonth (yy,mm)\n",
    "        \n",
    "        # add cell's backgroundcolor, bold and underling html tags \n",
    "        # around today's date\n",
    "        ss = s.replace('>%i<'%t.day, ' bgcolor=\"#66ff66\"><b><u>%i</u></b><'%t.day)\n",
    "        display(HTML(ss))\n",
    "\n",
    "print(\"Enter Value: \", end=\"\")\n",
    "val=int(input())\n",
    "function(val)\n"
   ]
  },
  {
   "cell_type": "code",
   "execution_count": null,
   "metadata": {},
   "outputs": [],
   "source": []
  }
 ],
 "metadata": {
  "kernelspec": {
   "display_name": "Python 3",
   "language": "python",
   "name": "python3"
  },
  "language_info": {
   "codemirror_mode": {
    "name": "ipython",
    "version": 3
   },
   "file_extension": ".py",
   "mimetype": "text/x-python",
   "name": "python",
   "nbconvert_exporter": "python",
   "pygments_lexer": "ipython3",
   "version": "3.8.4"
  }
 },
 "nbformat": 4,
 "nbformat_minor": 4
}
